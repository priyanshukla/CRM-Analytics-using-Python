{
  "cells": [
    {
      "cell_type": "markdown",
      "id": "47bde7ab",
      "metadata": {
        "papermill": {
          "duration": 0.026828,
          "end_time": "2022-03-11T12:47:26.298958",
          "exception": false,
          "start_time": "2022-03-11T12:47:26.272130",
          "status": "completed"
        },
        "tags": [],
        "id": "47bde7ab"
      },
      "source": [
        "# Customer Segmentation with RFM"
      ]
    },
    {
      "cell_type": "markdown",
      "id": "e0a0e394",
      "metadata": {
        "papermill": {
          "duration": 0.026519,
          "end_time": "2022-03-11T12:47:26.355133",
          "exception": false,
          "start_time": "2022-03-11T12:47:26.328614",
          "status": "completed"
        },
        "tags": [],
        "id": "e0a0e394"
      },
      "source": [
        "### What is Customer Segmentation?"
      ]
    },
    {
      "cell_type": "markdown",
      "id": "d7b138ca",
      "metadata": {
        "papermill": {
          "duration": 0.023107,
          "end_time": "2022-03-11T12:47:26.405697",
          "exception": false,
          "start_time": "2022-03-11T12:47:26.382590",
          "status": "completed"
        },
        "tags": [],
        "id": "d7b138ca"
      },
      "source": [
        "Customer segmentation is the process of dividing customers into groups based on common characteristics / behaviours. There are some segmentation techniques. And RFM is one of them."
      ]
    },
    {
      "cell_type": "markdown",
      "id": "9d018d57",
      "metadata": {
        "papermill": {
          "duration": 0.022375,
          "end_time": "2022-03-11T12:47:26.450721",
          "exception": false,
          "start_time": "2022-03-11T12:47:26.428346",
          "status": "completed"
        },
        "tags": [],
        "id": "9d018d57"
      },
      "source": [
        "### What is RFM?"
      ]
    },
    {
      "cell_type": "markdown",
      "id": "e3a56b91",
      "metadata": {
        "papermill": {
          "duration": 0.022511,
          "end_time": "2022-03-11T12:47:26.495757",
          "exception": false,
          "start_time": "2022-03-11T12:47:26.473246",
          "status": "completed"
        },
        "tags": [],
        "id": "e3a56b91"
      },
      "source": [
        "RFM analysis is a customer segmentation technique used to quantitatively rank and group customers based on three metrics. RFM is also a simple but effective segmentation technique."
      ]
    },
    {
      "cell_type": "markdown",
      "id": "746c3559",
      "metadata": {
        "papermill": {
          "duration": 0.022771,
          "end_time": "2022-03-11T12:47:26.541329",
          "exception": false,
          "start_time": "2022-03-11T12:47:26.518558",
          "status": "completed"
        },
        "tags": [],
        "id": "746c3559"
      },
      "source": [
        "![](https://cdn.hackernoon.com/images/ARCWTrgYpoc531106B2eMedWoT42-8w1376c.jpeg)"
      ]
    },
    {
      "cell_type": "markdown",
      "id": "b6a079c0",
      "metadata": {
        "papermill": {
          "duration": 0.022407,
          "end_time": "2022-03-11T12:47:26.588015",
          "exception": false,
          "start_time": "2022-03-11T12:47:26.565608",
          "status": "completed"
        },
        "tags": [],
        "id": "b6a079c0"
      },
      "source": [
        "### RFM Metrics"
      ]
    },
    {
      "cell_type": "markdown",
      "id": "78bc143a",
      "metadata": {
        "papermill": {
          "duration": 0.022253,
          "end_time": "2022-03-11T12:47:26.632868",
          "exception": false,
          "start_time": "2022-03-11T12:47:26.610615",
          "status": "completed"
        },
        "tags": [],
        "id": "78bc143a"
      },
      "source": [
        "RFM stands for three dimensions: Recency, frequency and monetary.\n",
        "\n",
        "R for how recently did the customer purchase? This information can be used to remind recent customers to revisit the business soon to continue meeting their purchase needs.\n",
        "\n",
        "F for how often do the customer purchase? Predicting this can assist marketing efforts directed at reminding the customer to visit the business again.\n",
        "\n",
        "M for how much do the customer spend? While this can produce a better return on investment in marketing and customer service, it also runs the risk of alienating customers who have been consistent but have not spent as much with each transaction."
      ]
    },
    {
      "cell_type": "markdown",
      "id": "2526f59f",
      "metadata": {
        "papermill": {
          "duration": 0.02307,
          "end_time": "2022-03-11T12:47:26.678519",
          "exception": false,
          "start_time": "2022-03-11T12:47:26.655449",
          "status": "completed"
        },
        "tags": [],
        "id": "2526f59f"
      },
      "source": [
        "### RFM Segments"
      ]
    },
    {
      "cell_type": "markdown",
      "id": "a4ad130b",
      "metadata": {
        "papermill": {
          "duration": 0.022478,
          "end_time": "2022-03-11T12:47:26.723416",
          "exception": false,
          "start_time": "2022-03-11T12:47:26.700938",
          "status": "completed"
        },
        "tags": [],
        "id": "a4ad130b"
      },
      "source": [
        "![](https://cdn.enhencer.com/website-assets/images/blog/AdvantagesAndInefficaciesOfRFMSegmentation1.png)"
      ]
    },
    {
      "cell_type": "markdown",
      "id": "4849e529",
      "metadata": {
        "papermill": {
          "duration": 0.02225,
          "end_time": "2022-03-11T12:47:26.768125",
          "exception": false,
          "start_time": "2022-03-11T12:47:26.745875",
          "status": "completed"
        },
        "tags": [],
        "id": "4849e529"
      },
      "source": [
        "**Champions:** Your best customers, they buy and spend a lot and made their last purchase recently.\n",
        "\n",
        "**Loyal Customer:** Very good customers. They spend a lot.\n",
        "\n",
        "**Potential Loyalist:** Recent customers, but who have already spent a lot.\n",
        "\n",
        "**New Customer:** Recent customers, who made only a few purchases.\n",
        "\n",
        "**Promising:** Customers who buy frequently and spend a lot, but made their last purchase some time ago.\n",
        "\n",
        "**Need Attention:** Customers with recency and above-average spending.\n",
        "\n",
        "**At Risk:** Customers who bought frequently, but haven't made any purchases in a long time.\n",
        "\n",
        "**Can't lose them:** Customers who have spent a lot, but have been inactive for a long time.\n",
        "\n",
        "**Hibernate:** Low-frequency, low-spender customers who haven't bought in a long time.\n",
        "\n",
        "**Lost:** Your worst customers. They haven't bought in a long time, they only bought once and they spent very little."
      ]
    },
    {
      "cell_type": "markdown",
      "id": "0f7174ce",
      "metadata": {
        "papermill": {
          "duration": 0.024393,
          "end_time": "2022-03-11T12:47:26.815040",
          "exception": false,
          "start_time": "2022-03-11T12:47:26.790647",
          "status": "completed"
        },
        "tags": [],
        "id": "0f7174ce"
      },
      "source": [
        "### How to perform RFM Analysis using Python?"
      ]
    },
    {
      "cell_type": "code",
      "execution_count": 1,
      "id": "ed9822da",
      "metadata": {
        "_cell_guid": "b1076dfc-b9ad-4769-8c92-a6c4dae69d19",
        "_uuid": "8f2839f25d086af736a60e9eeb907d3b93b6e0e5",
        "execution": {
          "iopub.execute_input": "2022-03-11T12:47:26.871269Z",
          "iopub.status.busy": "2022-03-11T12:47:26.870141Z",
          "iopub.status.idle": "2022-03-11T12:47:26.877678Z",
          "shell.execute_reply": "2022-03-11T12:47:26.878145Z",
          "shell.execute_reply.started": "2022-03-11T03:02:50.817583Z"
        },
        "papermill": {
          "duration": 0.037767,
          "end_time": "2022-03-11T12:47:26.878474",
          "exception": false,
          "start_time": "2022-03-11T12:47:26.840707",
          "status": "completed"
        },
        "tags": [],
        "id": "ed9822da"
      },
      "outputs": [],
      "source": [
        "import datetime as dt\n",
        "import pandas as pd"
      ]
    },
    {
      "cell_type": "code",
      "execution_count": 3,
      "id": "361b41ef",
      "metadata": {
        "execution": {
          "iopub.execute_input": "2022-03-11T12:47:26.928047Z",
          "iopub.status.busy": "2022-03-11T12:47:26.927443Z",
          "iopub.status.idle": "2022-03-11T12:47:27.966168Z",
          "shell.execute_reply": "2022-03-11T12:47:27.966704Z",
          "shell.execute_reply.started": "2022-03-11T03:02:52.208425Z"
        },
        "papermill": {
          "duration": 1.065287,
          "end_time": "2022-03-11T12:47:27.966876",
          "exception": false,
          "start_time": "2022-03-11T12:47:26.901589",
          "status": "completed"
        },
        "tags": [],
        "id": "361b41ef"
      },
      "outputs": [],
      "source": [
        "# due to some reasons, we need to use encoding parameters\n",
        "file ='/content/Year 2010-2011.csv'\n",
        "import chardet\n",
        "with open(file, 'rb') as rawdata:\n",
        "    result = chardet.detect(rawdata.read(100000))\n",
        "result\n",
        "\n",
        "df = pd.read_csv(file,encoding='ISO-8859-1')"
      ]
    },
    {
      "cell_type": "code",
      "execution_count": 4,
      "id": "7261bed7",
      "metadata": {
        "execution": {
          "iopub.execute_input": "2022-03-11T12:47:28.021043Z",
          "iopub.status.busy": "2022-03-11T12:47:28.020469Z",
          "iopub.status.idle": "2022-03-11T12:47:28.035942Z",
          "shell.execute_reply": "2022-03-11T12:47:28.036430Z",
          "shell.execute_reply.started": "2022-03-11T03:02:55.012747Z"
        },
        "papermill": {
          "duration": 0.047082,
          "end_time": "2022-03-11T12:47:28.036593",
          "exception": false,
          "start_time": "2022-03-11T12:47:27.989511",
          "status": "completed"
        },
        "tags": [],
        "colab": {
          "base_uri": "https://localhost:8080/",
          "height": 206
        },
        "id": "7261bed7",
        "outputId": "f3ccee7b-35ba-471e-fd1f-d1887f4a80ba"
      },
      "outputs": [
        {
          "output_type": "execute_result",
          "data": {
            "text/plain": [
              "  Invoice StockCode                          Description  Quantity  \\\n",
              "0  536365    85123A   WHITE HANGING HEART T-LIGHT HOLDER         6   \n",
              "1  536365     71053                  WHITE METAL LANTERN         6   \n",
              "2  536365    84406B       CREAM CUPID HEARTS COAT HANGER         8   \n",
              "3  536365    84029G  KNITTED UNION FLAG HOT WATER BOTTLE         6   \n",
              "4  536365    84029E       RED WOOLLY HOTTIE WHITE HEART.         6   \n",
              "\n",
              "      InvoiceDate  Price  Customer ID         Country  \n",
              "0  12/1/2010 8:26   2.55      17850.0  United Kingdom  \n",
              "1  12/1/2010 8:26   3.39      17850.0  United Kingdom  \n",
              "2  12/1/2010 8:26   2.75      17850.0  United Kingdom  \n",
              "3  12/1/2010 8:26   3.39      17850.0  United Kingdom  \n",
              "4  12/1/2010 8:26   3.39      17850.0  United Kingdom  "
            ],
            "text/html": [
              "\n",
              "  <div id=\"df-1cdd35c3-6115-4a1f-af2e-4d84657387b8\">\n",
              "    <div class=\"colab-df-container\">\n",
              "      <div>\n",
              "<style scoped>\n",
              "    .dataframe tbody tr th:only-of-type {\n",
              "        vertical-align: middle;\n",
              "    }\n",
              "\n",
              "    .dataframe tbody tr th {\n",
              "        vertical-align: top;\n",
              "    }\n",
              "\n",
              "    .dataframe thead th {\n",
              "        text-align: right;\n",
              "    }\n",
              "</style>\n",
              "<table border=\"1\" class=\"dataframe\">\n",
              "  <thead>\n",
              "    <tr style=\"text-align: right;\">\n",
              "      <th></th>\n",
              "      <th>Invoice</th>\n",
              "      <th>StockCode</th>\n",
              "      <th>Description</th>\n",
              "      <th>Quantity</th>\n",
              "      <th>InvoiceDate</th>\n",
              "      <th>Price</th>\n",
              "      <th>Customer ID</th>\n",
              "      <th>Country</th>\n",
              "    </tr>\n",
              "  </thead>\n",
              "  <tbody>\n",
              "    <tr>\n",
              "      <th>0</th>\n",
              "      <td>536365</td>\n",
              "      <td>85123A</td>\n",
              "      <td>WHITE HANGING HEART T-LIGHT HOLDER</td>\n",
              "      <td>6</td>\n",
              "      <td>12/1/2010 8:26</td>\n",
              "      <td>2.55</td>\n",
              "      <td>17850.0</td>\n",
              "      <td>United Kingdom</td>\n",
              "    </tr>\n",
              "    <tr>\n",
              "      <th>1</th>\n",
              "      <td>536365</td>\n",
              "      <td>71053</td>\n",
              "      <td>WHITE METAL LANTERN</td>\n",
              "      <td>6</td>\n",
              "      <td>12/1/2010 8:26</td>\n",
              "      <td>3.39</td>\n",
              "      <td>17850.0</td>\n",
              "      <td>United Kingdom</td>\n",
              "    </tr>\n",
              "    <tr>\n",
              "      <th>2</th>\n",
              "      <td>536365</td>\n",
              "      <td>84406B</td>\n",
              "      <td>CREAM CUPID HEARTS COAT HANGER</td>\n",
              "      <td>8</td>\n",
              "      <td>12/1/2010 8:26</td>\n",
              "      <td>2.75</td>\n",
              "      <td>17850.0</td>\n",
              "      <td>United Kingdom</td>\n",
              "    </tr>\n",
              "    <tr>\n",
              "      <th>3</th>\n",
              "      <td>536365</td>\n",
              "      <td>84029G</td>\n",
              "      <td>KNITTED UNION FLAG HOT WATER BOTTLE</td>\n",
              "      <td>6</td>\n",
              "      <td>12/1/2010 8:26</td>\n",
              "      <td>3.39</td>\n",
              "      <td>17850.0</td>\n",
              "      <td>United Kingdom</td>\n",
              "    </tr>\n",
              "    <tr>\n",
              "      <th>4</th>\n",
              "      <td>536365</td>\n",
              "      <td>84029E</td>\n",
              "      <td>RED WOOLLY HOTTIE WHITE HEART.</td>\n",
              "      <td>6</td>\n",
              "      <td>12/1/2010 8:26</td>\n",
              "      <td>3.39</td>\n",
              "      <td>17850.0</td>\n",
              "      <td>United Kingdom</td>\n",
              "    </tr>\n",
              "  </tbody>\n",
              "</table>\n",
              "</div>\n",
              "      <button class=\"colab-df-convert\" onclick=\"convertToInteractive('df-1cdd35c3-6115-4a1f-af2e-4d84657387b8')\"\n",
              "              title=\"Convert this dataframe to an interactive table.\"\n",
              "              style=\"display:none;\">\n",
              "        \n",
              "  <svg xmlns=\"http://www.w3.org/2000/svg\" height=\"24px\"viewBox=\"0 0 24 24\"\n",
              "       width=\"24px\">\n",
              "    <path d=\"M0 0h24v24H0V0z\" fill=\"none\"/>\n",
              "    <path d=\"M18.56 5.44l.94 2.06.94-2.06 2.06-.94-2.06-.94-.94-2.06-.94 2.06-2.06.94zm-11 1L8.5 8.5l.94-2.06 2.06-.94-2.06-.94L8.5 2.5l-.94 2.06-2.06.94zm10 10l.94 2.06.94-2.06 2.06-.94-2.06-.94-.94-2.06-.94 2.06-2.06.94z\"/><path d=\"M17.41 7.96l-1.37-1.37c-.4-.4-.92-.59-1.43-.59-.52 0-1.04.2-1.43.59L10.3 9.45l-7.72 7.72c-.78.78-.78 2.05 0 2.83L4 21.41c.39.39.9.59 1.41.59.51 0 1.02-.2 1.41-.59l7.78-7.78 2.81-2.81c.8-.78.8-2.07 0-2.86zM5.41 20L4 18.59l7.72-7.72 1.47 1.35L5.41 20z\"/>\n",
              "  </svg>\n",
              "      </button>\n",
              "      \n",
              "  <style>\n",
              "    .colab-df-container {\n",
              "      display:flex;\n",
              "      flex-wrap:wrap;\n",
              "      gap: 12px;\n",
              "    }\n",
              "\n",
              "    .colab-df-convert {\n",
              "      background-color: #E8F0FE;\n",
              "      border: none;\n",
              "      border-radius: 50%;\n",
              "      cursor: pointer;\n",
              "      display: none;\n",
              "      fill: #1967D2;\n",
              "      height: 32px;\n",
              "      padding: 0 0 0 0;\n",
              "      width: 32px;\n",
              "    }\n",
              "\n",
              "    .colab-df-convert:hover {\n",
              "      background-color: #E2EBFA;\n",
              "      box-shadow: 0px 1px 2px rgba(60, 64, 67, 0.3), 0px 1px 3px 1px rgba(60, 64, 67, 0.15);\n",
              "      fill: #174EA6;\n",
              "    }\n",
              "\n",
              "    [theme=dark] .colab-df-convert {\n",
              "      background-color: #3B4455;\n",
              "      fill: #D2E3FC;\n",
              "    }\n",
              "\n",
              "    [theme=dark] .colab-df-convert:hover {\n",
              "      background-color: #434B5C;\n",
              "      box-shadow: 0px 1px 3px 1px rgba(0, 0, 0, 0.15);\n",
              "      filter: drop-shadow(0px 1px 2px rgba(0, 0, 0, 0.3));\n",
              "      fill: #FFFFFF;\n",
              "    }\n",
              "  </style>\n",
              "\n",
              "      <script>\n",
              "        const buttonEl =\n",
              "          document.querySelector('#df-1cdd35c3-6115-4a1f-af2e-4d84657387b8 button.colab-df-convert');\n",
              "        buttonEl.style.display =\n",
              "          google.colab.kernel.accessAllowed ? 'block' : 'none';\n",
              "\n",
              "        async function convertToInteractive(key) {\n",
              "          const element = document.querySelector('#df-1cdd35c3-6115-4a1f-af2e-4d84657387b8');\n",
              "          const dataTable =\n",
              "            await google.colab.kernel.invokeFunction('convertToInteractive',\n",
              "                                                     [key], {});\n",
              "          if (!dataTable) return;\n",
              "\n",
              "          const docLinkHtml = 'Like what you see? Visit the ' +\n",
              "            '<a target=\"_blank\" href=https://colab.research.google.com/notebooks/data_table.ipynb>data table notebook</a>'\n",
              "            + ' to learn more about interactive tables.';\n",
              "          element.innerHTML = '';\n",
              "          dataTable['output_type'] = 'display_data';\n",
              "          await google.colab.output.renderOutput(dataTable, element);\n",
              "          const docLink = document.createElement('div');\n",
              "          docLink.innerHTML = docLinkHtml;\n",
              "          element.appendChild(docLink);\n",
              "        }\n",
              "      </script>\n",
              "    </div>\n",
              "  </div>\n",
              "  "
            ]
          },
          "metadata": {},
          "execution_count": 4
        }
      ],
      "source": [
        "df.head()"
      ]
    },
    {
      "cell_type": "markdown",
      "id": "f24d1af5",
      "metadata": {
        "papermill": {
          "duration": 0.023412,
          "end_time": "2022-03-11T12:47:28.083654",
          "exception": false,
          "start_time": "2022-03-11T12:47:28.060242",
          "status": "completed"
        },
        "tags": [],
        "id": "f24d1af5"
      },
      "source": [
        "### Data Preparation"
      ]
    },
    {
      "cell_type": "code",
      "execution_count": 5,
      "id": "7347badb",
      "metadata": {
        "execution": {
          "iopub.execute_input": "2022-03-11T12:47:28.135218Z",
          "iopub.status.busy": "2022-03-11T12:47:28.134599Z",
          "iopub.status.idle": "2022-03-11T12:47:28.308241Z",
          "shell.execute_reply": "2022-03-11T12:47:28.310547Z",
          "shell.execute_reply.started": "2022-03-11T03:02:57.022578Z"
        },
        "papermill": {
          "duration": 0.20379,
          "end_time": "2022-03-11T12:47:28.310851",
          "exception": false,
          "start_time": "2022-03-11T12:47:28.107061",
          "status": "completed"
        },
        "tags": [],
        "id": "7347badb"
      },
      "outputs": [],
      "source": [
        "# Remove the missing observations from the data set. Use the 'inplace=True' parameter for subtraction.\n",
        "df.dropna(inplace=True)"
      ]
    },
    {
      "cell_type": "code",
      "execution_count": 6,
      "id": "b9775145",
      "metadata": {
        "execution": {
          "iopub.execute_input": "2022-03-11T12:47:28.411006Z",
          "iopub.status.busy": "2022-03-11T12:47:28.410328Z",
          "iopub.status.idle": "2022-03-11T12:47:28.578447Z",
          "shell.execute_reply": "2022-03-11T12:47:28.577778Z",
          "shell.execute_reply.started": "2022-03-11T03:02:58.257806Z"
        },
        "papermill": {
          "duration": 0.235849,
          "end_time": "2022-03-11T12:47:28.578587",
          "exception": false,
          "start_time": "2022-03-11T12:47:28.342738",
          "status": "completed"
        },
        "tags": [],
        "id": "b9775145"
      },
      "outputs": [],
      "source": [
        "# The 'C' in the invoices shows the canceled transactions. Remove the canceled transactions from the dataset.\n",
        "df = df[~df['Invoice'].str.contains('C', na=False)]"
      ]
    },
    {
      "cell_type": "code",
      "execution_count": 7,
      "id": "57e20a76",
      "metadata": {
        "execution": {
          "iopub.execute_input": "2022-03-11T12:47:28.630297Z",
          "iopub.status.busy": "2022-03-11T12:47:28.629621Z",
          "iopub.status.idle": "2022-03-11T12:47:28.668319Z",
          "shell.execute_reply": "2022-03-11T12:47:28.667753Z",
          "shell.execute_reply.started": "2022-03-11T03:02:59.361384Z"
        },
        "papermill": {
          "duration": 0.06653,
          "end_time": "2022-03-11T12:47:28.668463",
          "exception": false,
          "start_time": "2022-03-11T12:47:28.601933",
          "status": "completed"
        },
        "tags": [],
        "id": "57e20a76"
      },
      "outputs": [],
      "source": [
        "df = df[(df['Quantity'] > 0)]"
      ]
    },
    {
      "cell_type": "code",
      "execution_count": 8,
      "id": "4108d460",
      "metadata": {
        "execution": {
          "iopub.execute_input": "2022-03-11T12:47:28.720251Z",
          "iopub.status.busy": "2022-03-11T12:47:28.719529Z",
          "iopub.status.idle": "2022-03-11T12:47:28.755028Z",
          "shell.execute_reply": "2022-03-11T12:47:28.754493Z",
          "shell.execute_reply.started": "2022-03-11T03:03:00.245094Z"
        },
        "papermill": {
          "duration": 0.063171,
          "end_time": "2022-03-11T12:47:28.755172",
          "exception": false,
          "start_time": "2022-03-11T12:47:28.692001",
          "status": "completed"
        },
        "tags": [],
        "id": "4108d460"
      },
      "outputs": [],
      "source": [
        "df = df[(df['Price'] > 0)]"
      ]
    },
    {
      "cell_type": "code",
      "execution_count": 9,
      "id": "7a3866d7",
      "metadata": {
        "execution": {
          "iopub.execute_input": "2022-03-11T12:47:28.812409Z",
          "iopub.status.busy": "2022-03-11T12:47:28.811699Z",
          "iopub.status.idle": "2022-03-11T12:47:28.816400Z",
          "shell.execute_reply": "2022-03-11T12:47:28.815859Z",
          "shell.execute_reply.started": "2022-03-11T03:03:01.45606Z"
        },
        "papermill": {
          "duration": 0.03767,
          "end_time": "2022-03-11T12:47:28.816538",
          "exception": false,
          "start_time": "2022-03-11T12:47:28.778868",
          "status": "completed"
        },
        "tags": [],
        "id": "7a3866d7"
      },
      "outputs": [],
      "source": [
        "# Create a variable named 'TotalPrice' that represents the total earnings per invoice.\n",
        "df['TotalPrice'] = df['Quantity'] * df['Price']"
      ]
    },
    {
      "cell_type": "markdown",
      "id": "bfc4d014",
      "metadata": {
        "papermill": {
          "duration": 0.02295,
          "end_time": "2022-03-11T12:47:28.863063",
          "exception": false,
          "start_time": "2022-03-11T12:47:28.840113",
          "status": "completed"
        },
        "tags": [],
        "id": "bfc4d014"
      },
      "source": [
        "### Calculating RFM Metrics"
      ]
    },
    {
      "cell_type": "code",
      "execution_count": 10,
      "id": "e5f1ed62",
      "metadata": {
        "execution": {
          "iopub.execute_input": "2022-03-11T12:47:28.938843Z",
          "iopub.status.busy": "2022-03-11T12:47:28.928980Z",
          "iopub.status.idle": "2022-03-11T12:47:28.943986Z",
          "shell.execute_reply": "2022-03-11T12:47:28.943483Z",
          "shell.execute_reply.started": "2022-03-11T03:03:04.664175Z"
        },
        "papermill": {
          "duration": 0.057815,
          "end_time": "2022-03-11T12:47:28.944119",
          "exception": false,
          "start_time": "2022-03-11T12:47:28.886304",
          "status": "completed"
        },
        "tags": [],
        "colab": {
          "base_uri": "https://localhost:8080/",
          "height": 36
        },
        "id": "e5f1ed62",
        "outputId": "17c98fe6-8b57-4171-aecb-abdb708b7497"
      },
      "outputs": [
        {
          "output_type": "execute_result",
          "data": {
            "text/plain": [
              "'9/9/2011 9:52'"
            ],
            "application/vnd.google.colaboratory.intrinsic+json": {
              "type": "string"
            }
          },
          "metadata": {},
          "execution_count": 10
        }
      ],
      "source": [
        "df[\"InvoiceDate\"].max()"
      ]
    },
    {
      "cell_type": "code",
      "execution_count": 11,
      "id": "5542936b",
      "metadata": {
        "execution": {
          "iopub.execute_input": "2022-03-11T12:47:28.996083Z",
          "iopub.status.busy": "2022-03-11T12:47:28.995476Z",
          "iopub.status.idle": "2022-03-11T12:47:28.997912Z",
          "shell.execute_reply": "2022-03-11T12:47:28.998374Z",
          "shell.execute_reply.started": "2022-03-11T03:03:06.682048Z"
        },
        "papermill": {
          "duration": 0.030785,
          "end_time": "2022-03-11T12:47:28.998546",
          "exception": false,
          "start_time": "2022-03-11T12:47:28.967761",
          "status": "completed"
        },
        "tags": [],
        "id": "5542936b"
      },
      "outputs": [],
      "source": [
        "today_date = dt.datetime(2010, 12, 11)"
      ]
    },
    {
      "cell_type": "code",
      "execution_count": 12,
      "id": "3902f2e3",
      "metadata": {
        "execution": {
          "iopub.execute_input": "2022-03-11T12:47:29.058704Z",
          "iopub.status.busy": "2022-03-11T12:47:29.050297Z",
          "iopub.status.idle": "2022-03-11T12:47:29.173189Z",
          "shell.execute_reply": "2022-03-11T12:47:29.172678Z",
          "shell.execute_reply.started": "2022-03-11T03:03:09.552176Z"
        },
        "papermill": {
          "duration": 0.150549,
          "end_time": "2022-03-11T12:47:29.173367",
          "exception": false,
          "start_time": "2022-03-11T12:47:29.022818",
          "status": "completed"
        },
        "tags": [],
        "id": "3902f2e3"
      },
      "outputs": [],
      "source": [
        "df['InvoiceDate'] = pd.to_datetime(df['InvoiceDate'], format='%m/%d/%Y %H:%M')"
      ]
    },
    {
      "cell_type": "code",
      "execution_count": 13,
      "id": "b724d20a",
      "metadata": {
        "execution": {
          "iopub.execute_input": "2022-03-11T12:47:29.228557Z",
          "iopub.status.busy": "2022-03-11T12:47:29.227913Z",
          "iopub.status.idle": "2022-03-11T12:47:30.255262Z",
          "shell.execute_reply": "2022-03-11T12:47:30.254691Z",
          "shell.execute_reply.started": "2022-03-11T03:03:11.351204Z"
        },
        "papermill": {
          "duration": 1.0581,
          "end_time": "2022-03-11T12:47:30.255416",
          "exception": false,
          "start_time": "2022-03-11T12:47:29.197316",
          "status": "completed"
        },
        "tags": [],
        "id": "b724d20a"
      },
      "outputs": [],
      "source": [
        "rfm = df.groupby('Customer ID').agg({'InvoiceDate': lambda InvoiceDate: (today_date - InvoiceDate.max()).days,\n",
        "                                     'Invoice': lambda Invoice: Invoice.nunique(),\n",
        "                                     'TotalPrice': lambda TotalPrice: TotalPrice.sum()})"
      ]
    },
    {
      "cell_type": "code",
      "execution_count": 14,
      "id": "3e5984b3",
      "metadata": {
        "execution": {
          "iopub.execute_input": "2022-03-11T12:47:30.307879Z",
          "iopub.status.busy": "2022-03-11T12:47:30.307050Z",
          "iopub.status.idle": "2022-03-11T12:47:30.309659Z",
          "shell.execute_reply": "2022-03-11T12:47:30.309144Z",
          "shell.execute_reply.started": "2022-03-11T03:03:15.124879Z"
        },
        "papermill": {
          "duration": 0.030444,
          "end_time": "2022-03-11T12:47:30.309801",
          "exception": false,
          "start_time": "2022-03-11T12:47:30.279357",
          "status": "completed"
        },
        "tags": [],
        "id": "3e5984b3"
      },
      "outputs": [],
      "source": [
        "rfm.columns = ['recency', 'frequency', 'monetary']"
      ]
    },
    {
      "cell_type": "markdown",
      "id": "0e32204e",
      "metadata": {
        "papermill": {
          "duration": 0.023685,
          "end_time": "2022-03-11T12:47:30.357229",
          "exception": false,
          "start_time": "2022-03-11T12:47:30.333544",
          "status": "completed"
        },
        "tags": [],
        "id": "0e32204e"
      },
      "source": [
        "### Calculating RFM Scores"
      ]
    },
    {
      "cell_type": "code",
      "execution_count": 15,
      "id": "919fcaba",
      "metadata": {
        "execution": {
          "iopub.execute_input": "2022-03-11T12:47:30.409653Z",
          "iopub.status.busy": "2022-03-11T12:47:30.409020Z",
          "iopub.status.idle": "2022-03-11T12:47:30.415822Z",
          "shell.execute_reply": "2022-03-11T12:47:30.415152Z",
          "shell.execute_reply.started": "2022-03-11T03:03:20.020876Z"
        },
        "papermill": {
          "duration": 0.035349,
          "end_time": "2022-03-11T12:47:30.415966",
          "exception": false,
          "start_time": "2022-03-11T12:47:30.380617",
          "status": "completed"
        },
        "tags": [],
        "id": "919fcaba"
      },
      "outputs": [],
      "source": [
        "# Latest date score. Here, 1 is the closest date and 5 is the farthest date.\n",
        "# For us, 1.5 is of higher importance than 5, as the most important case is 1, the most recent date.\n",
        "rfm[\"recency_score\"] = pd.qcut(rfm['recency'], 5, labels=[5, 4, 3, 2, 1])"
      ]
    },
    {
      "cell_type": "code",
      "execution_count": 16,
      "id": "9e259362",
      "metadata": {
        "execution": {
          "iopub.execute_input": "2022-03-11T12:47:30.470643Z",
          "iopub.status.busy": "2022-03-11T12:47:30.470008Z",
          "iopub.status.idle": "2022-03-11T12:47:30.477968Z",
          "shell.execute_reply": "2022-03-11T12:47:30.477472Z",
          "shell.execute_reply.started": "2022-03-11T03:03:21.154412Z"
        },
        "papermill": {
          "duration": 0.037837,
          "end_time": "2022-03-11T12:47:30.478101",
          "exception": false,
          "start_time": "2022-03-11T12:47:30.440264",
          "status": "completed"
        },
        "tags": [],
        "id": "9e259362"
      },
      "outputs": [],
      "source": [
        "# Shopping frequency score. Here, 1 represents the least frequency, 5 the most frequent.\n",
        "rfm[\"frequency_score\"] = pd.qcut(rfm['frequency'].rank(method=\"first\"), 5, labels=[1, 2, 3, 4, 5])"
      ]
    },
    {
      "cell_type": "code",
      "execution_count": 17,
      "id": "4c97fc83",
      "metadata": {
        "execution": {
          "iopub.execute_input": "2022-03-11T12:47:30.532989Z",
          "iopub.status.busy": "2022-03-11T12:47:30.532377Z",
          "iopub.status.idle": "2022-03-11T12:47:30.534638Z",
          "shell.execute_reply": "2022-03-11T12:47:30.534148Z",
          "shell.execute_reply.started": "2022-03-11T03:03:24.248281Z"
        },
        "papermill": {
          "duration": 0.033173,
          "end_time": "2022-03-11T12:47:30.534776",
          "exception": false,
          "start_time": "2022-03-11T12:47:30.501603",
          "status": "completed"
        },
        "tags": [],
        "id": "4c97fc83"
      },
      "outputs": [],
      "source": [
        "# The amount of money he left us. Here 1 represents the least money and 5 represents the most money.\n",
        "rfm[\"monetary_score\"] = pd.qcut(rfm['monetary'], 5, labels=[1, 2, 3, 4, 5])"
      ]
    },
    {
      "cell_type": "code",
      "execution_count": 18,
      "id": "b74559ca",
      "metadata": {
        "execution": {
          "iopub.execute_input": "2022-03-11T12:47:30.589128Z",
          "iopub.status.busy": "2022-03-11T12:47:30.587494Z",
          "iopub.status.idle": "2022-03-11T12:47:30.592266Z",
          "shell.execute_reply": "2022-03-11T12:47:30.591719Z",
          "shell.execute_reply.started": "2022-03-11T03:03:25.417913Z"
        },
        "papermill": {
          "duration": 0.034216,
          "end_time": "2022-03-11T12:47:30.592473",
          "exception": false,
          "start_time": "2022-03-11T12:47:30.558257",
          "status": "completed"
        },
        "tags": [],
        "id": "b74559ca"
      },
      "outputs": [],
      "source": [
        "rfm[\"RFM_SCORE\"] = (rfm['recency_score'].astype(str) + rfm['frequency_score'].astype(str))"
      ]
    },
    {
      "cell_type": "markdown",
      "id": "0624f2b1",
      "metadata": {
        "papermill": {
          "duration": 0.023384,
          "end_time": "2022-03-11T12:47:30.639505",
          "exception": false,
          "start_time": "2022-03-11T12:47:30.616121",
          "status": "completed"
        },
        "tags": [],
        "id": "0624f2b1"
      },
      "source": [
        "### Creating & Analysing RFM Segments"
      ]
    },
    {
      "cell_type": "code",
      "execution_count": 19,
      "id": "690fc32e",
      "metadata": {
        "execution": {
          "iopub.execute_input": "2022-03-11T12:47:30.692002Z",
          "iopub.status.busy": "2022-03-11T12:47:30.691390Z",
          "iopub.status.idle": "2022-03-11T12:47:30.694083Z",
          "shell.execute_reply": "2022-03-11T12:47:30.693597Z",
          "shell.execute_reply.started": "2022-03-11T03:03:28.084395Z"
        },
        "papermill": {
          "duration": 0.031134,
          "end_time": "2022-03-11T12:47:30.694231",
          "exception": false,
          "start_time": "2022-03-11T12:47:30.663097",
          "status": "completed"
        },
        "tags": [],
        "id": "690fc32e"
      },
      "outputs": [],
      "source": [
        "# RFM nomenclature\n",
        "seg_map = {\n",
        "    r'[1-2][1-2]': 'hibernating',\n",
        "    r'[1-2][3-4]': 'at_Risk',\n",
        "    r'[1-2]5': 'cant_loose',\n",
        "    r'3[1-2]': 'about_to_sleep',\n",
        "    r'33': 'need_attention',\n",
        "    r'[3-4][4-5]': 'loyal_customers',\n",
        "    r'41': 'promising',\n",
        "    r'51': 'new_customers',\n",
        "    r'[4-5][2-3]': 'potential_loyalists',\n",
        "    r'5[4-5]': 'champions'\n",
        "}"
      ]
    },
    {
      "cell_type": "code",
      "execution_count": 20,
      "id": "29662238",
      "metadata": {
        "execution": {
          "iopub.execute_input": "2022-03-11T12:47:30.806991Z",
          "iopub.status.busy": "2022-03-11T12:47:30.804034Z",
          "iopub.status.idle": "2022-03-11T12:47:30.809234Z",
          "shell.execute_reply": "2022-03-11T12:47:30.808697Z",
          "shell.execute_reply.started": "2022-03-11T03:03:29.202981Z"
        },
        "papermill": {
          "duration": 0.091649,
          "end_time": "2022-03-11T12:47:30.809367",
          "exception": false,
          "start_time": "2022-03-11T12:47:30.717718",
          "status": "completed"
        },
        "tags": [],
        "id": "29662238"
      },
      "outputs": [],
      "source": [
        "rfm['segment'] = rfm['RFM_SCORE'].replace(seg_map, regex=True)"
      ]
    },
    {
      "cell_type": "code",
      "execution_count": 21,
      "id": "09277586",
      "metadata": {
        "execution": {
          "iopub.execute_input": "2022-03-11T12:47:30.860624Z",
          "iopub.status.busy": "2022-03-11T12:47:30.860037Z",
          "iopub.status.idle": "2022-03-11T12:47:30.865035Z",
          "shell.execute_reply": "2022-03-11T12:47:30.865563Z",
          "shell.execute_reply.started": "2022-03-11T03:03:57.509119Z"
        },
        "papermill": {
          "duration": 0.032068,
          "end_time": "2022-03-11T12:47:30.865734",
          "exception": false,
          "start_time": "2022-03-11T12:47:30.833666",
          "status": "completed"
        },
        "tags": [],
        "id": "09277586"
      },
      "outputs": [],
      "source": [
        "rfm = rfm[[\"recency\", \"frequency\", \"monetary\", \"segment\"]]"
      ]
    },
    {
      "cell_type": "code",
      "execution_count": 22,
      "id": "c572c978",
      "metadata": {
        "execution": {
          "iopub.execute_input": "2022-03-11T12:47:30.916235Z",
          "iopub.status.busy": "2022-03-11T12:47:30.915624Z",
          "iopub.status.idle": "2022-03-11T12:47:30.925045Z",
          "shell.execute_reply": "2022-03-11T12:47:30.925577Z"
        },
        "papermill": {
          "duration": 0.036383,
          "end_time": "2022-03-11T12:47:30.925748",
          "exception": false,
          "start_time": "2022-03-11T12:47:30.889365",
          "status": "completed"
        },
        "tags": [],
        "colab": {
          "base_uri": "https://localhost:8080/",
          "height": 237
        },
        "id": "c572c978",
        "outputId": "84900d68-9451-447f-8f07-77b01830baec"
      },
      "outputs": [
        {
          "output_type": "execute_result",
          "data": {
            "text/plain": [
              "             recency  frequency  monetary      segment\n",
              "Customer ID                                           \n",
              "12346.0          -39          1  77183.60  hibernating\n",
              "12347.0         -362          7   4310.00    champions\n",
              "12348.0         -289          4   1797.24      at_Risk\n",
              "12349.0         -346          1   1757.55    promising\n",
              "12350.0          -54          1    334.40  hibernating"
            ],
            "text/html": [
              "\n",
              "  <div id=\"df-33aac86f-6ac2-41ca-9d37-7a1ee7b4690e\">\n",
              "    <div class=\"colab-df-container\">\n",
              "      <div>\n",
              "<style scoped>\n",
              "    .dataframe tbody tr th:only-of-type {\n",
              "        vertical-align: middle;\n",
              "    }\n",
              "\n",
              "    .dataframe tbody tr th {\n",
              "        vertical-align: top;\n",
              "    }\n",
              "\n",
              "    .dataframe thead th {\n",
              "        text-align: right;\n",
              "    }\n",
              "</style>\n",
              "<table border=\"1\" class=\"dataframe\">\n",
              "  <thead>\n",
              "    <tr style=\"text-align: right;\">\n",
              "      <th></th>\n",
              "      <th>recency</th>\n",
              "      <th>frequency</th>\n",
              "      <th>monetary</th>\n",
              "      <th>segment</th>\n",
              "    </tr>\n",
              "    <tr>\n",
              "      <th>Customer ID</th>\n",
              "      <th></th>\n",
              "      <th></th>\n",
              "      <th></th>\n",
              "      <th></th>\n",
              "    </tr>\n",
              "  </thead>\n",
              "  <tbody>\n",
              "    <tr>\n",
              "      <th>12346.0</th>\n",
              "      <td>-39</td>\n",
              "      <td>1</td>\n",
              "      <td>77183.60</td>\n",
              "      <td>hibernating</td>\n",
              "    </tr>\n",
              "    <tr>\n",
              "      <th>12347.0</th>\n",
              "      <td>-362</td>\n",
              "      <td>7</td>\n",
              "      <td>4310.00</td>\n",
              "      <td>champions</td>\n",
              "    </tr>\n",
              "    <tr>\n",
              "      <th>12348.0</th>\n",
              "      <td>-289</td>\n",
              "      <td>4</td>\n",
              "      <td>1797.24</td>\n",
              "      <td>at_Risk</td>\n",
              "    </tr>\n",
              "    <tr>\n",
              "      <th>12349.0</th>\n",
              "      <td>-346</td>\n",
              "      <td>1</td>\n",
              "      <td>1757.55</td>\n",
              "      <td>promising</td>\n",
              "    </tr>\n",
              "    <tr>\n",
              "      <th>12350.0</th>\n",
              "      <td>-54</td>\n",
              "      <td>1</td>\n",
              "      <td>334.40</td>\n",
              "      <td>hibernating</td>\n",
              "    </tr>\n",
              "  </tbody>\n",
              "</table>\n",
              "</div>\n",
              "      <button class=\"colab-df-convert\" onclick=\"convertToInteractive('df-33aac86f-6ac2-41ca-9d37-7a1ee7b4690e')\"\n",
              "              title=\"Convert this dataframe to an interactive table.\"\n",
              "              style=\"display:none;\">\n",
              "        \n",
              "  <svg xmlns=\"http://www.w3.org/2000/svg\" height=\"24px\"viewBox=\"0 0 24 24\"\n",
              "       width=\"24px\">\n",
              "    <path d=\"M0 0h24v24H0V0z\" fill=\"none\"/>\n",
              "    <path d=\"M18.56 5.44l.94 2.06.94-2.06 2.06-.94-2.06-.94-.94-2.06-.94 2.06-2.06.94zm-11 1L8.5 8.5l.94-2.06 2.06-.94-2.06-.94L8.5 2.5l-.94 2.06-2.06.94zm10 10l.94 2.06.94-2.06 2.06-.94-2.06-.94-.94-2.06-.94 2.06-2.06.94z\"/><path d=\"M17.41 7.96l-1.37-1.37c-.4-.4-.92-.59-1.43-.59-.52 0-1.04.2-1.43.59L10.3 9.45l-7.72 7.72c-.78.78-.78 2.05 0 2.83L4 21.41c.39.39.9.59 1.41.59.51 0 1.02-.2 1.41-.59l7.78-7.78 2.81-2.81c.8-.78.8-2.07 0-2.86zM5.41 20L4 18.59l7.72-7.72 1.47 1.35L5.41 20z\"/>\n",
              "  </svg>\n",
              "      </button>\n",
              "      \n",
              "  <style>\n",
              "    .colab-df-container {\n",
              "      display:flex;\n",
              "      flex-wrap:wrap;\n",
              "      gap: 12px;\n",
              "    }\n",
              "\n",
              "    .colab-df-convert {\n",
              "      background-color: #E8F0FE;\n",
              "      border: none;\n",
              "      border-radius: 50%;\n",
              "      cursor: pointer;\n",
              "      display: none;\n",
              "      fill: #1967D2;\n",
              "      height: 32px;\n",
              "      padding: 0 0 0 0;\n",
              "      width: 32px;\n",
              "    }\n",
              "\n",
              "    .colab-df-convert:hover {\n",
              "      background-color: #E2EBFA;\n",
              "      box-shadow: 0px 1px 2px rgba(60, 64, 67, 0.3), 0px 1px 3px 1px rgba(60, 64, 67, 0.15);\n",
              "      fill: #174EA6;\n",
              "    }\n",
              "\n",
              "    [theme=dark] .colab-df-convert {\n",
              "      background-color: #3B4455;\n",
              "      fill: #D2E3FC;\n",
              "    }\n",
              "\n",
              "    [theme=dark] .colab-df-convert:hover {\n",
              "      background-color: #434B5C;\n",
              "      box-shadow: 0px 1px 3px 1px rgba(0, 0, 0, 0.15);\n",
              "      filter: drop-shadow(0px 1px 2px rgba(0, 0, 0, 0.3));\n",
              "      fill: #FFFFFF;\n",
              "    }\n",
              "  </style>\n",
              "\n",
              "      <script>\n",
              "        const buttonEl =\n",
              "          document.querySelector('#df-33aac86f-6ac2-41ca-9d37-7a1ee7b4690e button.colab-df-convert');\n",
              "        buttonEl.style.display =\n",
              "          google.colab.kernel.accessAllowed ? 'block' : 'none';\n",
              "\n",
              "        async function convertToInteractive(key) {\n",
              "          const element = document.querySelector('#df-33aac86f-6ac2-41ca-9d37-7a1ee7b4690e');\n",
              "          const dataTable =\n",
              "            await google.colab.kernel.invokeFunction('convertToInteractive',\n",
              "                                                     [key], {});\n",
              "          if (!dataTable) return;\n",
              "\n",
              "          const docLinkHtml = 'Like what you see? Visit the ' +\n",
              "            '<a target=\"_blank\" href=https://colab.research.google.com/notebooks/data_table.ipynb>data table notebook</a>'\n",
              "            + ' to learn more about interactive tables.';\n",
              "          element.innerHTML = '';\n",
              "          dataTable['output_type'] = 'display_data';\n",
              "          await google.colab.output.renderOutput(dataTable, element);\n",
              "          const docLink = document.createElement('div');\n",
              "          docLink.innerHTML = docLinkHtml;\n",
              "          element.appendChild(docLink);\n",
              "        }\n",
              "      </script>\n",
              "    </div>\n",
              "  </div>\n",
              "  "
            ]
          },
          "metadata": {},
          "execution_count": 22
        }
      ],
      "source": [
        "rfm.head()"
      ]
    },
    {
      "cell_type": "markdown",
      "id": "0ca9c4d3",
      "metadata": {
        "papermill": {
          "duration": 0.024452,
          "end_time": "2022-03-11T12:47:30.974439",
          "exception": false,
          "start_time": "2022-03-11T12:47:30.949987",
          "status": "completed"
        },
        "tags": [],
        "id": "0ca9c4d3"
      },
      "source": [
        "Sources:\n",
        "\n",
        "https://www.techtarget.com/searchdatamanagement/definition/RFM-analysis\n",
        "\n",
        "https://www.actioniq.com/blog/what-is-rfm-analysis/\n",
        "\n",
        "https://clevertap.com/blog/rfm-analysis/\n",
        "\n",
        "https://www.investopedia.com/terms/r/rfm-recency-frequency-monetary-value.asp"
      ]
    }
  ],
  "metadata": {
    "kernelspec": {
      "display_name": "Python 3",
      "language": "python",
      "name": "python3"
    },
    "language_info": {
      "codemirror_mode": {
        "name": "ipython",
        "version": 3
      },
      "file_extension": ".py",
      "mimetype": "text/x-python",
      "name": "python",
      "nbconvert_exporter": "python",
      "pygments_lexer": "ipython3",
      "version": "3.7.12"
    },
    "papermill": {
      "default_parameters": {},
      "duration": 13.869829,
      "end_time": "2022-03-11T12:47:31.609874",
      "environment_variables": {},
      "exception": null,
      "input_path": "__notebook__.ipynb",
      "output_path": "__notebook__.ipynb",
      "parameters": {},
      "start_time": "2022-03-11T12:47:17.740045",
      "version": "2.3.3"
    },
    "colab": {
      "name": "Customer-Segmentation-with-RFM.ipynb",
      "provenance": [],
      "collapsed_sections": []
    }
  },
  "nbformat": 4,
  "nbformat_minor": 5
}