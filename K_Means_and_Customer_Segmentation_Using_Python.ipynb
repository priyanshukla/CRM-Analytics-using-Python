{
  "metadata": {
    "kernelspec": {
      "language": "python",
      "display_name": "Python 3",
      "name": "python3"
    },
    "language_info": {
      "pygments_lexer": "ipython3",
      "nbconvert_exporter": "python",
      "version": "3.6.4",
      "file_extension": ".py",
      "codemirror_mode": {
        "name": "ipython",
        "version": 3
      },
      "name": "python",
      "mimetype": "text/x-python"
    },
    "colab": {
      "name": "K-Means-and-Customer-Segmentation-Using-Python.ipynb",
      "provenance": []
    }
  },
  "nbformat_minor": 0,
  "nbformat": 4,
  "cells": [
    {
      "cell_type": "markdown",
      "source": [
        "# K-Means and Customer Segmentation"
      ],
      "metadata": {
        "id": "5DfTbdymblU6"
      }
    },
    {
      "cell_type": "markdown",
      "source": [
        "In my previous article, I talked about Customer Segmentation with RFM technique. I will talk about Customer Segmentation again. But, this time, I will use an unsupervised machine learning algorithm: K-Means Clustering."
      ],
      "metadata": {
        "id": "rGQYOCVpblVE"
      }
    },
    {
      "cell_type": "markdown",
      "source": [
        "## What is K-Means Clustering Algorithm?"
      ],
      "metadata": {
        "id": "hqzEE6KVblVG"
      }
    },
    {
      "cell_type": "markdown",
      "source": [
        "K-Means Clustering is an unsupervised learning algorithm that is used to solve the clustering problems in machine learning. This algorithm tries to group similar items in the form of clusters. The number of groups is represented by K. Here K defines the number of pre-defined clusters that need to be created in the process, as if K=2, there will be two clusters."
      ],
      "metadata": {
        "id": "ZQK2hSQVblVH"
      }
    },
    {
      "cell_type": "markdown",
      "source": [
        "## How to Perform?"
      ],
      "metadata": {
        "id": "Q3qQq_jSblVI"
      }
    },
    {
      "cell_type": "markdown",
      "source": [
        "To perform K-Means clustering, all data points are grouped into k number of clusters, each of which is represented by its centroids. The centroid of a cluster is often a mean of all data points in that cluster.\n",
        "\n",
        "The data points in a cluster are closest to the centroids of that cluster. There is a high similarity between data points in a cluster and data points from one cluster is dissimilar to the data points of another cluster. The similarity of the cluster assignments is determined by computing the sum of the squared error (SSE) after the centroids converge. The SSE is defined as the sum of the squared Euclidean distances of each point to its closest centroid. Since this is a measure of error, the objective of k-means is to try to minimize this value."
      ],
      "metadata": {
        "id": "p2mzTYp7blVI"
      }
    },
    {
      "cell_type": "markdown",
      "source": [
        "## The steps of K-Means are:"
      ],
      "metadata": {
        "id": "rv5AWj0ublVK"
      }
    },
    {
      "cell_type": "markdown",
      "source": [
        "![](https://miro.medium.com/max/1400/1*OwcEPrzjtujG0LvD60iFRw.png)"
      ],
      "metadata": {
        "id": "VZYo1tqJblVK"
      }
    },
    {
      "cell_type": "markdown",
      "source": [
        "## Customer Segmentation with K-Means"
      ],
      "metadata": {
        "id": "yaXvB_xHblVL"
      }
    },
    {
      "cell_type": "markdown",
      "source": [
        "We use Online Retail dataset as in the previous article."
      ],
      "metadata": {
        "id": "DiKnHARGblVM"
      }
    },
    {
      "cell_type": "code",
      "source": [
        "import datetime as dt\n",
        "import pandas as pd\n",
        "from sklearn.cluster import KMeans\n",
        "from sklearn.preprocessing import MinMaxScaler\n",
        "from yellowbrick.cluster import KElbowVisualizer"
      ],
      "metadata": {
        "execution": {
          "iopub.status.busy": "2022-03-23T18:43:39.944324Z",
          "iopub.execute_input": "2022-03-23T18:43:39.945203Z",
          "iopub.status.idle": "2022-03-23T18:43:41.430964Z",
          "shell.execute_reply.started": "2022-03-23T18:43:39.945094Z",
          "shell.execute_reply": "2022-03-23T18:43:41.430072Z"
        },
        "trusted": true,
        "id": "o8_kAe46blVN"
      },
      "execution_count": 1,
      "outputs": []
    },
    {
      "cell_type": "code",
      "source": [
        "pd.set_option('display.max_columns', None)\n",
        "pd.set_option('display.max_rows', None)"
      ],
      "metadata": {
        "execution": {
          "iopub.status.busy": "2022-03-23T18:43:41.43433Z",
          "iopub.execute_input": "2022-03-23T18:43:41.43464Z",
          "iopub.status.idle": "2022-03-23T18:43:41.439938Z",
          "shell.execute_reply.started": "2022-03-23T18:43:41.434609Z",
          "shell.execute_reply": "2022-03-23T18:43:41.439156Z"
        },
        "trusted": true,
        "id": "5zoKjgz9blVQ"
      },
      "execution_count": 2,
      "outputs": []
    },
    {
      "cell_type": "markdown",
      "source": [
        "Install openpyxl if necessary"
      ],
      "metadata": {
        "id": "MNXch7WDblVQ"
      }
    },
    {
      "cell_type": "code",
      "source": [
        "!pip install openpyxl --quiet"
      ],
      "metadata": {
        "execution": {
          "iopub.status.busy": "2022-03-23T18:43:41.441621Z",
          "iopub.execute_input": "2022-03-23T18:43:41.44214Z",
          "iopub.status.idle": "2022-03-23T18:43:52.4594Z",
          "shell.execute_reply.started": "2022-03-23T18:43:41.442095Z",
          "shell.execute_reply": "2022-03-23T18:43:52.458294Z"
        },
        "trusted": true,
        "id": "hGM4jDhcblVR"
      },
      "execution_count": 3,
      "outputs": []
    },
    {
      "cell_type": "markdown",
      "source": [
        "Read the dataset."
      ],
      "metadata": {
        "id": "vJcDjuPvblVR"
      }
    },
    {
      "cell_type": "code",
      "source": [
        "df = pd.read_excel('/content/online_retail_II.xlsx', sheet_name='Year 2010-2011')"
      ],
      "metadata": {
        "execution": {
          "iopub.status.busy": "2022-03-23T18:43:52.462547Z",
          "iopub.execute_input": "2022-03-23T18:43:52.463432Z",
          "iopub.status.idle": "2022-03-23T18:45:20.368439Z",
          "shell.execute_reply.started": "2022-03-23T18:43:52.463386Z",
          "shell.execute_reply": "2022-03-23T18:45:20.367755Z"
        },
        "trusted": true,
        "id": "OxUxSeWJblVR"
      },
      "execution_count": 4,
      "outputs": []
    },
    {
      "cell_type": "markdown",
      "source": [
        "Let's prepare the data as in the previous notebooks."
      ],
      "metadata": {
        "id": "EUO2sW1NblVS"
      }
    },
    {
      "cell_type": "code",
      "source": [
        "df.dropna(inplace=True)\n",
        "df = df[~df['Invoice'].str.contains('C', na=False)]\n",
        "df = df[(df['Quantity'] > 0)]\n",
        "df = df[(df['Price'] > 0)]"
      ],
      "metadata": {
        "execution": {
          "iopub.status.busy": "2022-03-23T18:45:20.369919Z",
          "iopub.execute_input": "2022-03-23T18:45:20.3709Z",
          "iopub.status.idle": "2022-03-23T18:45:21.594992Z",
          "shell.execute_reply.started": "2022-03-23T18:45:20.370852Z",
          "shell.execute_reply": "2022-03-23T18:45:21.594348Z"
        },
        "trusted": true,
        "id": "6uqt8XsbblVS"
      },
      "execution_count": 5,
      "outputs": []
    },
    {
      "cell_type": "code",
      "source": [
        "df['TotalPrice'] = df['Quantity'] * df['Price']"
      ],
      "metadata": {
        "execution": {
          "iopub.status.busy": "2022-03-23T18:45:21.596671Z",
          "iopub.execute_input": "2022-03-23T18:45:21.597295Z",
          "iopub.status.idle": "2022-03-23T18:45:21.605781Z",
          "shell.execute_reply.started": "2022-03-23T18:45:21.59725Z",
          "shell.execute_reply": "2022-03-23T18:45:21.604907Z"
        },
        "trusted": true,
        "id": "eeNs4MfeblVT"
      },
      "execution_count": 6,
      "outputs": []
    },
    {
      "cell_type": "code",
      "source": [
        "rfm = df.groupby('Customer ID').agg({\n",
        "                              'InvoiceDate': lambda InvoiceDate: (dt.datetime(2011, 12, 11) - InvoiceDate.max()).days,\n",
        "                              'Invoice': lambda Invoice: Invoice.nunique(),\n",
        "                              'TotalPrice': lambda TotalPrice: TotalPrice.sum()})"
      ],
      "metadata": {
        "execution": {
          "iopub.status.busy": "2022-03-23T18:45:21.607167Z",
          "iopub.execute_input": "2022-03-23T18:45:21.60749Z",
          "iopub.status.idle": "2022-03-23T18:45:22.810973Z",
          "shell.execute_reply.started": "2022-03-23T18:45:21.607448Z",
          "shell.execute_reply": "2022-03-23T18:45:22.810118Z"
        },
        "trusted": true,
        "id": "BLGhn-b1blVT"
      },
      "execution_count": 7,
      "outputs": []
    },
    {
      "cell_type": "code",
      "source": [
        "rfm.columns = ['recency', 'frequency', 'monetary']"
      ],
      "metadata": {
        "execution": {
          "iopub.status.busy": "2022-03-23T18:45:22.812339Z",
          "iopub.execute_input": "2022-03-23T18:45:22.812622Z",
          "iopub.status.idle": "2022-03-23T18:45:22.817227Z",
          "shell.execute_reply.started": "2022-03-23T18:45:22.812591Z",
          "shell.execute_reply": "2022-03-23T18:45:22.816224Z"
        },
        "trusted": true,
        "id": "khPbjEXFblVU"
      },
      "execution_count": 8,
      "outputs": []
    },
    {
      "cell_type": "code",
      "source": [
        "sc = MinMaxScaler((0, 1))\n",
        "rfm_ = sc.fit_transform(rfm)"
      ],
      "metadata": {
        "execution": {
          "iopub.status.busy": "2022-03-23T18:45:22.818349Z",
          "iopub.execute_input": "2022-03-23T18:45:22.818569Z",
          "iopub.status.idle": "2022-03-23T18:45:22.832274Z",
          "shell.execute_reply.started": "2022-03-23T18:45:22.818541Z",
          "shell.execute_reply": "2022-03-23T18:45:22.831575Z"
        },
        "trusted": true,
        "id": "_l31m-rrblVU"
      },
      "execution_count": 9,
      "outputs": []
    },
    {
      "cell_type": "code",
      "source": [
        "kmeans = KMeans(n_clusters=4)\n",
        "k_fit = kmeans.fit(rfm_)"
      ],
      "metadata": {
        "execution": {
          "iopub.status.busy": "2022-03-23T18:45:22.835743Z",
          "iopub.execute_input": "2022-03-23T18:45:22.836044Z",
          "iopub.status.idle": "2022-03-23T18:45:24.073735Z",
          "shell.execute_reply.started": "2022-03-23T18:45:22.836013Z",
          "shell.execute_reply": "2022-03-23T18:45:24.072979Z"
        },
        "trusted": true,
        "id": "kCu_rMWTblVV"
      },
      "execution_count": 10,
      "outputs": []
    },
    {
      "cell_type": "code",
      "source": [
        "kmeans = KMeans()\n",
        "elbow = KElbowVisualizer(kmeans, k=(2, 20))\n",
        "elbow.fit(rfm_)\n",
        "elbow.show()"
      ],
      "metadata": {
        "execution": {
          "iopub.status.busy": "2022-03-23T18:45:24.078022Z",
          "iopub.execute_input": "2022-03-23T18:45:24.080634Z",
          "iopub.status.idle": "2022-03-23T18:46:27.499856Z",
          "shell.execute_reply.started": "2022-03-23T18:45:24.080583Z",
          "shell.execute_reply": "2022-03-23T18:46:27.499305Z"
        },
        "trusted": true,
        "colab": {
          "base_uri": "https://localhost:8080/",
          "height": 312
        },
        "id": "XCCTHjj-blVV",
        "outputId": "78f0e212-9658-4a1d-c0cb-ec2597ca3987"
      },
      "execution_count": 11,
      "outputs": [
        {
          "output_type": "display_data",
          "data": {
            "text/plain": [
              "<Figure size 432x288 with 2 Axes>"
            ],
            "image/png": "[encoded data removed]"
          },
          "metadata": {}
        },
        {
          "output_type": "execute_result",
          "data": {
            "text/plain": [
              "<matplotlib.axes._subplots.AxesSubplot at 0x7f9af1ca8810>"
            ]
          },
          "metadata": {},
          "execution_count": 11
        }
      ]
    },
    {
      "cell_type": "code",
      "source": [
        "kmeans = KMeans(n_clusters=elbow.elbow_value_).fit(rfm_)"
      ],
      "metadata": {
        "execution": {
          "iopub.status.busy": "2022-03-23T18:46:27.501095Z",
          "iopub.execute_input": "2022-03-23T18:46:27.501542Z",
          "iopub.status.idle": "2022-03-23T18:46:29.129677Z",
          "shell.execute_reply.started": "2022-03-23T18:46:27.50151Z",
          "shell.execute_reply": "2022-03-23T18:46:29.128771Z"
        },
        "trusted": true,
        "id": "RuxPI56vblVW"
      },
      "execution_count": 12,
      "outputs": []
    },
    {
      "cell_type": "code",
      "source": [
        "clusters = kmeans.labels_"
      ],
      "metadata": {
        "execution": {
          "iopub.status.busy": "2022-03-23T18:46:29.131166Z",
          "iopub.execute_input": "2022-03-23T18:46:29.1316Z",
          "iopub.status.idle": "2022-03-23T18:46:29.135948Z",
          "shell.execute_reply.started": "2022-03-23T18:46:29.131556Z",
          "shell.execute_reply": "2022-03-23T18:46:29.135036Z"
        },
        "trusted": true,
        "id": "cWabNFpKblVW"
      },
      "execution_count": 13,
      "outputs": []
    },
    {
      "cell_type": "code",
      "source": [
        "segments = pd.DataFrame({\"Customer\": rfm.index, \"Cluster\": clusters})"
      ],
      "metadata": {
        "execution": {
          "iopub.status.busy": "2022-03-23T18:46:29.137306Z",
          "iopub.execute_input": "2022-03-23T18:46:29.137709Z",
          "iopub.status.idle": "2022-03-23T18:46:29.155883Z",
          "shell.execute_reply.started": "2022-03-23T18:46:29.137653Z",
          "shell.execute_reply": "2022-03-23T18:46:29.154758Z"
        },
        "trusted": true,
        "id": "BlVTAwwYblVX"
      },
      "execution_count": 14,
      "outputs": []
    },
    {
      "cell_type": "code",
      "source": [
        "rfm[\"cluster_no\"] = clusters\n",
        "rfm[\"cluster_no\"] = rfm[\"cluster_no\"] + 1"
      ],
      "metadata": {
        "execution": {
          "iopub.status.busy": "2022-03-23T18:46:29.157205Z",
          "iopub.execute_input": "2022-03-23T18:46:29.157558Z",
          "iopub.status.idle": "2022-03-23T18:46:29.169776Z",
          "shell.execute_reply.started": "2022-03-23T18:46:29.157417Z",
          "shell.execute_reply": "2022-03-23T18:46:29.168698Z"
        },
        "trusted": true,
        "id": "NhQLCDKeblVX"
      },
      "execution_count": 15,
      "outputs": []
    },
    {
      "cell_type": "code",
      "source": [
        "rfm.head()"
      ],
      "metadata": {
        "execution": {
          "iopub.status.busy": "2022-03-23T18:46:29.171418Z",
          "iopub.execute_input": "2022-03-23T18:46:29.172175Z",
          "iopub.status.idle": "2022-03-23T18:46:29.198784Z",
          "shell.execute_reply.started": "2022-03-23T18:46:29.172129Z",
          "shell.execute_reply": "2022-03-23T18:46:29.197712Z"
        },
        "trusted": true,
        "colab": {
          "base_uri": "https://localhost:8080/",
          "height": 237
        },
        "id": "crnBxpj1blVX",
        "outputId": "1af526a7-7600-433e-f57f-175171a8ff54"
      },
      "execution_count": 16,
      "outputs": [
        {
          "output_type": "execute_result",
          "data": {
            "text/plain": [
              "             recency  frequency  monetary  cluster_no\n",
              "Customer ID                                          \n",
              "12346.0          326          1  77183.60           2\n",
              "12347.0            3          7   4310.00           1\n",
              "12348.0           76          4   1797.24           5\n",
              "12349.0           19          1   1757.55           1\n",
              "12350.0          311          1    334.40           2"
            ],
            "text/html": [
              "\n",
              "  <div id=\"df-f913a9c1-cb0a-4f0c-af2d-1ac23c3f5a48\">\n",
              "    <div class=\"colab-df-container\">\n",
              "      <div>\n",
              "<style scoped>\n",
              "    .dataframe tbody tr th:only-of-type {\n",
              "        vertical-align: middle;\n",
              "    }\n",
              "\n",
              "    .dataframe tbody tr th {\n",
              "        vertical-align: top;\n",
              "    }\n",
              "\n",
              "    .dataframe thead th {\n",
              "        text-align: right;\n",
              "    }\n",
              "</style>\n",
              "<table border=\"1\" class=\"dataframe\">\n",
              "  <thead>\n",
              "    <tr style=\"text-align: right;\">\n",
              "      <th></th>\n",
              "      <th>recency</th>\n",
              "      <th>frequency</th>\n",
              "      <th>monetary</th>\n",
              "      <th>cluster_no</th>\n",
              "    </tr>\n",
              "    <tr>\n",
              "      <th>Customer ID</th>\n",
              "      <th></th>\n",
              "      <th></th>\n",
              "      <th></th>\n",
              "      <th></th>\n",
              "    </tr>\n",
              "  </thead>\n",
              "  <tbody>\n",
              "    <tr>\n",
              "      <th>12346.0</th>\n",
              "      <td>326</td>\n",
              "      <td>1</td>\n",
              "      <td>77183.60</td>\n",
              "      <td>2</td>\n",
              "    </tr>\n",
              "    <tr>\n",
              "      <th>12347.0</th>\n",
              "      <td>3</td>\n",
              "      <td>7</td>\n",
              "      <td>4310.00</td>\n",
              "      <td>1</td>\n",
              "    </tr>\n",
              "    <tr>\n",
              "      <th>12348.0</th>\n",
              "      <td>76</td>\n",
              "      <td>4</td>\n",
              "      <td>1797.24</td>\n",
              "      <td>5</td>\n",
              "    </tr>\n",
              "    <tr>\n",
              "      <th>12349.0</th>\n",
              "      <td>19</td>\n",
              "      <td>1</td>\n",
              "      <td>1757.55</td>\n",
              "      <td>1</td>\n",
              "    </tr>\n",
              "    <tr>\n",
              "      <th>12350.0</th>\n",
              "      <td>311</td>\n",
              "      <td>1</td>\n",
              "      <td>334.40</td>\n",
              "      <td>2</td>\n",
              "    </tr>\n",
              "  </tbody>\n",
              "</table>\n",
              "</div>\n",
              "      <button class=\"colab-df-convert\" onclick=\"convertToInteractive('df-f913a9c1-cb0a-4f0c-af2d-1ac23c3f5a48')\"\n",
              "              title=\"Convert this dataframe to an interactive table.\"\n",
              "              style=\"display:none;\">\n",
              "        \n",
              "  <svg xmlns=\"http://www.w3.org/2000/svg\" height=\"24px\"viewBox=\"0 0 24 24\"\n",
              "       width=\"24px\">\n",
              "    <path d=\"M0 0h24v24H0V0z\" fill=\"none\"/>\n",
              "    <path d=\"M18.56 5.44l.94 2.06.94-2.06 2.06-.94-2.06-.94-.94-2.06-.94 2.06-2.06.94zm-11 1L8.5 8.5l.94-2.06 2.06-.94-2.06-.94L8.5 2.5l-.94 2.06-2.06.94zm10 10l.94 2.06.94-2.06 2.06-.94-2.06-.94-.94-2.06-.94 2.06-2.06.94z\"/><path d=\"M17.41 7.96l-1.37-1.37c-.4-.4-.92-.59-1.43-.59-.52 0-1.04.2-1.43.59L10.3 9.45l-7.72 7.72c-.78.78-.78 2.05 0 2.83L4 21.41c.39.39.9.59 1.41.59.51 0 1.02-.2 1.41-.59l7.78-7.78 2.81-2.81c.8-.78.8-2.07 0-2.86zM5.41 20L4 18.59l7.72-7.72 1.47 1.35L5.41 20z\"/>\n",
              "  </svg>\n",
              "      </button>\n",
              "      \n",
              "  <style>\n",
              "    .colab-df-container {\n",
              "      display:flex;\n",
              "      flex-wrap:wrap;\n",
              "      gap: 12px;\n",
              "    }\n",
              "\n",
              "    .colab-df-convert {\n",
              "      background-color: #E8F0FE;\n",
              "      border: none;\n",
              "      border-radius: 50%;\n",
              "      cursor: pointer;\n",
              "      display: none;\n",
              "      fill: #1967D2;\n",
              "      height: 32px;\n",
              "      padding: 0 0 0 0;\n",
              "      width: 32px;\n",
              "    }\n",
              "\n",
              "    .colab-df-convert:hover {\n",
              "      background-color: #E2EBFA;\n",
              "      box-shadow: 0px 1px 2px rgba(60, 64, 67, 0.3), 0px 1px 3px 1px rgba(60, 64, 67, 0.15);\n",
              "      fill: #174EA6;\n",
              "    }\n",
              "\n",
              "    [theme=dark] .colab-df-convert {\n",
              "      background-color: #3B4455;\n",
              "      fill: #D2E3FC;\n",
              "    }\n",
              "\n",
              "    [theme=dark] .colab-df-convert:hover {\n",
              "      background-color: #434B5C;\n",
              "      box-shadow: 0px 1px 3px 1px rgba(0, 0, 0, 0.15);\n",
              "      filter: drop-shadow(0px 1px 2px rgba(0, 0, 0, 0.3));\n",
              "      fill: #FFFFFF;\n",
              "    }\n",
              "  </style>\n",
              "\n",
              "      <script>\n",
              "        const buttonEl =\n",
              "          document.querySelector('#df-f913a9c1-cb0a-4f0c-af2d-1ac23c3f5a48 button.colab-df-convert');\n",
              "        buttonEl.style.display =\n",
              "          google.colab.kernel.accessAllowed ? 'block' : 'none';\n",
              "\n",
              "        async function convertToInteractive(key) {\n",
              "          const element = document.querySelector('#df-f913a9c1-cb0a-4f0c-af2d-1ac23c3f5a48');\n",
              "          const dataTable =\n",
              "            await google.colab.kernel.invokeFunction('convertToInteractive',\n",
              "                                                     [key], {});\n",
              "          if (!dataTable) return;\n",
              "\n",
              "          const docLinkHtml = 'Like what you see? Visit the ' +\n",
              "            '<a target=\"_blank\" href=https://colab.research.google.com/notebooks/data_table.ipynb>data table notebook</a>'\n",
              "            + ' to learn more about interactive tables.';\n",
              "          element.innerHTML = '';\n",
              "          dataTable['output_type'] = 'display_data';\n",
              "          await google.colab.output.renderOutput(dataTable, element);\n",
              "          const docLink = document.createElement('div');\n",
              "          docLink.innerHTML = docLinkHtml;\n",
              "          element.appendChild(docLink);\n",
              "        }\n",
              "      </script>\n",
              "    </div>\n",
              "  </div>\n",
              "  "
            ]
          },
          "metadata": {},
          "execution_count": 16
        }
      ]
    }
  ]
}